{
 "cells": [
  {
   "cell_type": "code",
   "execution_count": 75,
   "metadata": {},
   "outputs": [],
   "source": [
    "import pandas\n",
    "from tpot import TPOTClassifier\n",
    "from sklearn.model_selection import train_test_split\n",
    "import numpy as np\n",
    "from pandas_profiling import ProfileReport\n",
    "from imblearn.under_sampling import NearMiss\n",
    "from imblearn.over_sampling import RandomOverSampler\n",
    "from sklearn.metrics import roc_auc_score\n"
   ]
  },
  {
   "cell_type": "code",
   "execution_count": 6,
   "metadata": {},
   "outputs": [],
   "source": [
    "dataframe = pandas.read_csv('./superstore_data.csv')"
   ]
  },
  {
   "cell_type": "code",
   "execution_count": 10,
   "metadata": {},
   "outputs": [
    {
     "data": {
      "application/vnd.jupyter.widget-view+json": {
       "model_id": "9677c2592a2b4aceb2b9081875c0f7e6",
       "version_major": 2,
       "version_minor": 0
      },
      "text/plain": [
       "Summarize dataset:   0%|          | 0/5 [00:00<?, ?it/s]"
      ]
     },
     "metadata": {},
     "output_type": "display_data"
    },
    {
     "data": {
      "application/vnd.jupyter.widget-view+json": {
       "model_id": "c9187f781b7a4670891d0471c18d9178",
       "version_major": 2,
       "version_minor": 0
      },
      "text/plain": [
       "Generate report structure:   0%|          | 0/1 [00:00<?, ?it/s]"
      ]
     },
     "metadata": {},
     "output_type": "display_data"
    },
    {
     "data": {
      "application/vnd.jupyter.widget-view+json": {
       "model_id": "cf777abb822648c3bd7a111f2382d3e9",
       "version_major": 2,
       "version_minor": 0
      },
      "text/plain": [
       "Render HTML:   0%|          | 0/1 [00:00<?, ?it/s]"
      ]
     },
     "metadata": {},
     "output_type": "display_data"
    },
    {
     "data": {
      "application/vnd.jupyter.widget-view+json": {
       "model_id": "5a349b16d7dc445d8d7409ebe16e694b",
       "version_major": 2,
       "version_minor": 0
      },
      "text/plain": [
       "Export report to file:   0%|          | 0/1 [00:00<?, ?it/s]"
      ]
     },
     "metadata": {},
     "output_type": "display_data"
    }
   ],
   "source": [
    "profile = ProfileReport(dataframe)\n",
    "profile.to_file(output_file='report.html')"
   ]
  },
  {
   "cell_type": "markdown",
   "metadata": {},
   "source": [
    "Luego de haber realizado el analisis exploratorio se pudo observar que la columna \"incoming\" tiene una cantidad del 1.1% de registros vacios, se procede a eliminarlos"
   ]
  },
  {
   "cell_type": "code",
   "execution_count": 45,
   "metadata": {},
   "outputs": [],
   "source": [
    "clean_dataframe = dataframe.dropna()"
   ]
  },
  {
   "cell_type": "code",
   "execution_count": 46,
   "metadata": {},
   "outputs": [
    {
     "name": "stderr",
     "output_type": "stream",
     "text": [
      "/tmp/ipykernel_7499/1202804512.py:1: SettingWithCopyWarning: \n",
      "A value is trying to be set on a copy of a slice from a DataFrame.\n",
      "Try using .loc[row_indexer,col_indexer] = value instead\n",
      "\n",
      "See the caveats in the documentation: https://pandas.pydata.org/pandas-docs/stable/user_guide/indexing.html#returning-a-view-versus-a-copy\n",
      "  clean_dataframe.Education = clean_dataframe.Education.map({'Graduation': 1, 'PhD': 2, 'Master':3, '2n Cycle': 4, 'Basic': 5})\n"
     ]
    }
   ],
   "source": [
    "clean_dataframe.Education = clean_dataframe.Education.map({'Graduation': 1, 'PhD': 2, 'Master':3, '2n Cycle': 4, 'Basic': 5})"
   ]
  },
  {
   "cell_type": "code",
   "execution_count": 47,
   "metadata": {},
   "outputs": [
    {
     "name": "stderr",
     "output_type": "stream",
     "text": [
      "/tmp/ipykernel_7499/2575629651.py:1: SettingWithCopyWarning: \n",
      "A value is trying to be set on a copy of a slice from a DataFrame.\n",
      "Try using .loc[row_indexer,col_indexer] = value instead\n",
      "\n",
      "See the caveats in the documentation: https://pandas.pydata.org/pandas-docs/stable/user_guide/indexing.html#returning-a-view-versus-a-copy\n",
      "  clean_dataframe.Marital_Status = clean_dataframe.Marital_Status.map({\n"
     ]
    }
   ],
   "source": [
    "clean_dataframe.Marital_Status = clean_dataframe.Marital_Status.map({\n",
    "    'Married': 1, \n",
    "    'Together': 2, \n",
    "    'Single':3, \n",
    "    'Divorced': 4, \n",
    "    'Widow': 5,\n",
    "    'Alone': 5,\n",
    "    'YOLO': 5,\n",
    "    'Absurd': 5\n",
    "})"
   ]
  },
  {
   "cell_type": "code",
   "execution_count": 48,
   "metadata": {},
   "outputs": [
    {
     "name": "stderr",
     "output_type": "stream",
     "text": [
      "/tmp/ipykernel_7499/955561588.py:1: SettingWithCopyWarning: \n",
      "A value is trying to be set on a copy of a slice from a DataFrame.\n",
      "Try using .loc[row_indexer,col_indexer] = value instead\n",
      "\n",
      "See the caveats in the documentation: https://pandas.pydata.org/pandas-docs/stable/user_guide/indexing.html#returning-a-view-versus-a-copy\n",
      "  clean_dataframe['Dt_Customer'] = pandas.to_datetime(clean_dataframe['Dt_Customer'], errors=\"coerce\")\n",
      "/tmp/ipykernel_7499/955561588.py:2: SettingWithCopyWarning: \n",
      "A value is trying to be set on a copy of a slice from a DataFrame.\n",
      "Try using .loc[row_indexer,col_indexer] = value instead\n",
      "\n",
      "See the caveats in the documentation: https://pandas.pydata.org/pandas-docs/stable/user_guide/indexing.html#returning-a-view-versus-a-copy\n",
      "  clean_dataframe['Dt_Customer'] = clean_dataframe['Dt_Customer'].astype(int).div(10**9)\n"
     ]
    }
   ],
   "source": [
    "clean_dataframe['Dt_Customer'] = pandas.to_datetime(clean_dataframe['Dt_Customer'], errors=\"coerce\")\n",
    "clean_dataframe['Dt_Customer'] = clean_dataframe['Dt_Customer'].astype(int).div(10**9)"
   ]
  },
  {
   "cell_type": "code",
   "execution_count": 49,
   "metadata": {},
   "outputs": [
    {
     "data": {
      "text/plain": [
       "Id                       int64\n",
       "Year_Birth               int64\n",
       "Education                int64\n",
       "Marital_Status           int64\n",
       "Income                 float64\n",
       "Kidhome                  int64\n",
       "Teenhome                 int64\n",
       "Dt_Customer            float64\n",
       "Recency                  int64\n",
       "MntWines                 int64\n",
       "MntFruits                int64\n",
       "MntMeatProducts          int64\n",
       "MntFishProducts          int64\n",
       "MntSweetProducts         int64\n",
       "MntGoldProds             int64\n",
       "NumDealsPurchases        int64\n",
       "NumWebPurchases          int64\n",
       "NumCatalogPurchases      int64\n",
       "NumStorePurchases        int64\n",
       "NumWebVisitsMonth        int64\n",
       "Response                 int64\n",
       "Complain                 int64\n",
       "dtype: object"
      ]
     },
     "execution_count": 49,
     "metadata": {},
     "output_type": "execute_result"
    }
   ],
   "source": [
    "clean_dataframe.dtypes"
   ]
  },
  {
   "cell_type": "code",
   "execution_count": 51,
   "metadata": {},
   "outputs": [
    {
     "data": {
      "text/plain": [
       "(2240, 22)"
      ]
     },
     "execution_count": 51,
     "metadata": {},
     "output_type": "execute_result"
    }
   ],
   "source": [
    "dataframe.shape"
   ]
  },
  {
   "cell_type": "code",
   "execution_count": 52,
   "metadata": {},
   "outputs": [
    {
     "data": {
      "text/plain": [
       "(2216, 22)"
      ]
     },
     "execution_count": 52,
     "metadata": {},
     "output_type": "execute_result"
    }
   ],
   "source": [
    "clean_dataframe.shape"
   ]
  },
  {
   "cell_type": "code",
   "execution_count": 53,
   "metadata": {},
   "outputs": [],
   "source": [
    "X_train, X_test, y_train, y_test = train_test_split(\n",
    "    clean_dataframe.drop(['Response'], axis=1), \n",
    "    clean_dataframe.Response, \n",
    "    train_size=0.75,\n",
    "    test_size=0.25,\n",
    "    random_state=42\n",
    ")"
   ]
  },
  {
   "cell_type": "code",
   "execution_count": 76,
   "metadata": {},
   "outputs": [],
   "source": [
    "pipeline_optimizer = TPOTClassifier(\n",
    "    verbosity = 2,\n",
    "    generations= 10,\n",
    "    memory = 'auto',\n",
    "    n_jobs = -1,\n",
    "    scoring = 'f1'\n",
    ")"
   ]
  },
  {
   "cell_type": "code",
   "execution_count": 77,
   "metadata": {},
   "outputs": [],
   "source": [
    "def run_model(X_train, y_train, X_test, y_test, filename_model):\n",
    "    pipeline_optimizer.fit(X_train, y_train)\n",
    "    print(pipeline_optimizer.score(X_test, y_test))\n",
    "    pipeline_optimizer.export(filename_model)\n",
    "\n",
    "    predictions = pipeline_optimizer.predict(X_test)\n",
    "    print(\"AUC score: \")\n",
    "    print(roc_auc_score(y_test, predictions))"
   ]
  },
  {
   "cell_type": "markdown",
   "metadata": {},
   "source": [
    "# Tecnicas de balanceo\n",
    "\n",
    "### Estrategia: Subsampling en la clase mayoritaria"
   ]
  },
  {
   "cell_type": "code",
   "execution_count": 67,
   "metadata": {},
   "outputs": [],
   "source": [
    "us = NearMiss(n_neighbors=3, version=2)\n",
    "X_train_res, y_train_res = us.fit_resample(X_train, y_train)\n",
    "run_model(X_train_res, y_train_res, X_test, y_test, 'near_miss_model.py')"
   ]
  },
  {
   "cell_type": "markdown",
   "metadata": {},
   "source": [
    "### Estrategia: Oversampling de la clase minoritaria"
   ]
  },
  {
   "cell_type": "code",
   "execution_count": 78,
   "metadata": {},
   "outputs": [
    {
     "data": {
      "application/vnd.jupyter.widget-view+json": {
       "model_id": "08a4a173af69488095ac50dd853e10d7",
       "version_major": 2,
       "version_minor": 0
      },
      "text/plain": [
       "Optimization Progress:   0%|          | 0/1100 [00:00<?, ?pipeline/s]"
      ]
     },
     "metadata": {},
     "output_type": "display_data"
    },
    {
     "name": "stderr",
     "output_type": "stream",
     "text": [
      "/home/ramses/Documentos/proyects/faa/superstore/.venv/lib/python3.10/site-packages/tpot/builtins/__init__.py:36: UserWarning: Warning: optional dependency `torch` is not available. - skipping import of NN models.\n",
      "  warnings.warn(\"Warning: optional dependency `torch` is not available. - skipping import of NN models.\")\n",
      "/home/ramses/Documentos/proyects/faa/superstore/.venv/lib/python3.10/site-packages/tpot/builtins/__init__.py:36: UserWarning: Warning: optional dependency `torch` is not available. - skipping import of NN models.\n",
      "  warnings.warn(\"Warning: optional dependency `torch` is not available. - skipping import of NN models.\")\n",
      "/home/ramses/Documentos/proyects/faa/superstore/.venv/lib/python3.10/site-packages/tpot/builtins/__init__.py:36: UserWarning: Warning: optional dependency `torch` is not available. - skipping import of NN models.\n",
      "  warnings.warn(\"Warning: optional dependency `torch` is not available. - skipping import of NN models.\")\n",
      "/home/ramses/Documentos/proyects/faa/superstore/.venv/lib/python3.10/site-packages/tpot/builtins/__init__.py:36: UserWarning: Warning: optional dependency `torch` is not available. - skipping import of NN models.\n",
      "  warnings.warn(\"Warning: optional dependency `torch` is not available. - skipping import of NN models.\")\n"
     ]
    },
    {
     "name": "stdout",
     "output_type": "stream",
     "text": [
      "\n",
      "Generation 1 - Current best internal CV score: 0.983959506773431\n",
      "\n",
      "Generation 2 - Current best internal CV score: 0.983959506773431\n",
      "\n",
      "Generation 3 - Current best internal CV score: 0.983959506773431\n",
      "\n",
      "Generation 4 - Current best internal CV score: 0.983959506773431\n",
      "\n",
      "Generation 5 - Current best internal CV score: 0.9846585857822969\n",
      "\n",
      "Generation 6 - Current best internal CV score: 0.987070722561012\n",
      "\n",
      "\n",
      "TPOT closed during evaluation in one generation.\n",
      "WARNING: TPOT may not provide a good pipeline if TPOT is stopped/interrupted in a early generation.\n",
      "\n",
      "\n",
      "TPOT closed prematurely. Will use the current best pipeline.\n",
      "\n",
      "Best pipeline: RandomForestClassifier(StandardScaler(input_matrix), bootstrap=False, criterion=gini, max_features=0.1, min_samples_leaf=1, min_samples_split=3, n_estimators=100)\n",
      "0.3826086956521739\n",
      "AUC score: \n",
      "0.6204283442655536\n"
     ]
    }
   ],
   "source": [
    "overSample =  RandomOverSampler()\n",
    "X_train_res, y_train_res = overSample.fit_resample(X_train, y_train)\n",
    "run_model(X_train_res, y_train_res, X_test, y_test, 'over_sample_model.py')\n"
   ]
  },
  {
   "cell_type": "markdown",
   "metadata": {},
   "source": [
    "# Clasificador"
   ]
  },
  {
   "cell_type": "code",
   "execution_count": 68,
   "metadata": {},
   "outputs": [
    {
     "data": {
      "application/vnd.jupyter.widget-view+json": {
       "model_id": "7cfd56c9687d4b89a63a4dbb675d4709",
       "version_major": 2,
       "version_minor": 0
      },
      "text/plain": [
       "Optimization Progress:   0%|          | 0/5100 [00:00<?, ?pipeline/s]"
      ]
     },
     "metadata": {},
     "output_type": "display_data"
    },
    {
     "name": "stderr",
     "output_type": "stream",
     "text": [
      "/home/ramses/Documentos/proyects/faa/superstore/.venv/lib/python3.10/site-packages/tpot/builtins/__init__.py:36: UserWarning: Warning: optional dependency `torch` is not available. - skipping import of NN models.\n",
      "  warnings.warn(\"Warning: optional dependency `torch` is not available. - skipping import of NN models.\")\n",
      "/home/ramses/Documentos/proyects/faa/superstore/.venv/lib/python3.10/site-packages/tpot/builtins/__init__.py:36: UserWarning: Warning: optional dependency `torch` is not available. - skipping import of NN models.\n",
      "  warnings.warn(\"Warning: optional dependency `torch` is not available. - skipping import of NN models.\")\n",
      "/home/ramses/Documentos/proyects/faa/superstore/.venv/lib/python3.10/site-packages/tpot/builtins/__init__.py:36: UserWarning: Warning: optional dependency `torch` is not available. - skipping import of NN models.\n",
      "  warnings.warn(\"Warning: optional dependency `torch` is not available. - skipping import of NN models.\")\n",
      "/home/ramses/Documentos/proyects/faa/superstore/.venv/lib/python3.10/site-packages/tpot/builtins/__init__.py:36: UserWarning: Warning: optional dependency `torch` is not available. - skipping import of NN models.\n",
      "  warnings.warn(\"Warning: optional dependency `torch` is not available. - skipping import of NN models.\")\n"
     ]
    },
    {
     "name": "stdout",
     "output_type": "stream",
     "text": [
      "\n",
      "Generation 1 - Current best internal CV score: 0.49241295139524865\n",
      "\n",
      "Generation 2 - Current best internal CV score: 0.49241295139524865\n",
      "\n",
      "Generation 3 - Current best internal CV score: 0.49241295139524865\n",
      "\n",
      "Generation 4 - Current best internal CV score: 0.4953661147808358\n",
      "\n",
      "Generation 5 - Current best internal CV score: 0.4953661147808358\n",
      "\n",
      "Generation 6 - Current best internal CV score: 0.4976039938651283\n",
      "\n",
      "Generation 7 - Current best internal CV score: 0.522324135646768\n",
      "\n",
      "Generation 8 - Current best internal CV score: 0.522324135646768\n",
      "\n",
      "Generation 9 - Current best internal CV score: 0.522324135646768\n",
      "\n",
      "Generation 10 - Current best internal CV score: 0.522324135646768\n",
      "\n",
      "Generation 11 - Current best internal CV score: 0.522324135646768\n",
      "\n",
      "Generation 12 - Current best internal CV score: 0.522324135646768\n",
      "\n",
      "Generation 13 - Current best internal CV score: 0.5244906479211346\n",
      "\n",
      "Generation 14 - Current best internal CV score: 0.5284174317958233\n",
      "\n",
      "Generation 15 - Current best internal CV score: 0.5284174317958233\n",
      "\n",
      "Generation 16 - Current best internal CV score: 0.5284174317958233\n",
      "\n",
      "Generation 17 - Current best internal CV score: 0.5314274177453131\n",
      "\n",
      "Generation 18 - Current best internal CV score: 0.5335484883155809\n",
      "\n",
      "Generation 19 - Current best internal CV score: 0.5335484883155809\n",
      "\n",
      "Generation 20 - Current best internal CV score: 0.5424846441587762\n",
      "\n",
      "Generation 21 - Current best internal CV score: 0.5457868858091934\n",
      "\n",
      "Generation 22 - Current best internal CV score: 0.5515813208638027\n",
      "\n",
      "Generation 23 - Current best internal CV score: 0.5515813208638027\n",
      "\n",
      "Generation 24 - Current best internal CV score: 0.5524634831920608\n",
      "\n",
      "Generation 25 - Current best internal CV score: 0.5573962756873077\n",
      "\n",
      "Generation 26 - Current best internal CV score: 0.5573962756873077\n",
      "\n",
      "Generation 27 - Current best internal CV score: 0.5573962756873077\n",
      "\n",
      "Generation 28 - Current best internal CV score: 0.5592351207184901\n",
      "\n",
      "Generation 29 - Current best internal CV score: 0.5731873148094728\n",
      "\n",
      "Generation 30 - Current best internal CV score: 0.5731873148094728\n",
      "\n",
      "Generation 31 - Current best internal CV score: 0.5731873148094728\n",
      "\n",
      "Generation 32 - Current best internal CV score: 0.5731873148094728\n",
      "\n",
      "Generation 33 - Current best internal CV score: 0.5731873148094728\n",
      "\n",
      "Generation 34 - Current best internal CV score: 0.5731873148094728\n",
      "\n",
      "Generation 35 - Current best internal CV score: 0.5731873148094728\n",
      "\n",
      "Generation 36 - Current best internal CV score: 0.5731873148094728\n",
      "\n",
      "Generation 37 - Current best internal CV score: 0.5731873148094728\n",
      "\n",
      "Generation 38 - Current best internal CV score: 0.5731873148094728\n",
      "\n",
      "Generation 39 - Current best internal CV score: 0.5731873148094728\n",
      "\n",
      "Generation 40 - Current best internal CV score: 0.5731873148094728\n",
      "\n",
      "Generation 41 - Current best internal CV score: 0.5761984828755504\n",
      "\n",
      "Generation 42 - Current best internal CV score: 0.5761984828755504\n",
      "\n",
      "Generation 43 - Current best internal CV score: 0.5767204695202272\n",
      "\n",
      "Generation 44 - Current best internal CV score: 0.5767204695202272\n",
      "\n",
      "Generation 45 - Current best internal CV score: 0.5767204695202272\n",
      "\n",
      "Generation 46 - Current best internal CV score: 0.5767204695202272\n",
      "\n",
      "Generation 47 - Current best internal CV score: 0.5889626051390757\n",
      "\n",
      "Generation 48 - Current best internal CV score: 0.5889626051390757\n",
      "\n",
      "Generation 49 - Current best internal CV score: 0.5889626051390757\n",
      "\n",
      "Generation 50 - Current best internal CV score: 0.5889626051390757\n",
      "\n",
      "Best pipeline: XGBClassifier(GradientBoostingClassifier(MaxAbsScaler(GradientBoostingClassifier(MaxAbsScaler(input_matrix), learning_rate=0.1, max_depth=3, max_features=0.45, min_samples_leaf=6, min_samples_split=15, n_estimators=100, subsample=0.9500000000000001)), learning_rate=0.1, max_depth=2, max_features=0.45, min_samples_leaf=6, min_samples_split=5, n_estimators=100, subsample=0.45), learning_rate=0.5, max_depth=1, min_child_weight=10, n_estimators=100, n_jobs=1, subsample=0.15000000000000002, verbosity=0)\n"
     ]
    },
    {
     "data": {
      "text/html": [
       "<style>#sk-container-id-5 {color: black;background-color: white;}#sk-container-id-5 pre{padding: 0;}#sk-container-id-5 div.sk-toggleable {background-color: white;}#sk-container-id-5 label.sk-toggleable__label {cursor: pointer;display: block;width: 100%;margin-bottom: 0;padding: 0.3em;box-sizing: border-box;text-align: center;}#sk-container-id-5 label.sk-toggleable__label-arrow:before {content: \"▸\";float: left;margin-right: 0.25em;color: #696969;}#sk-container-id-5 label.sk-toggleable__label-arrow:hover:before {color: black;}#sk-container-id-5 div.sk-estimator:hover label.sk-toggleable__label-arrow:before {color: black;}#sk-container-id-5 div.sk-toggleable__content {max-height: 0;max-width: 0;overflow: hidden;text-align: left;background-color: #f0f8ff;}#sk-container-id-5 div.sk-toggleable__content pre {margin: 0.2em;color: black;border-radius: 0.25em;background-color: #f0f8ff;}#sk-container-id-5 input.sk-toggleable__control:checked~div.sk-toggleable__content {max-height: 200px;max-width: 100%;overflow: auto;}#sk-container-id-5 input.sk-toggleable__control:checked~label.sk-toggleable__label-arrow:before {content: \"▾\";}#sk-container-id-5 div.sk-estimator input.sk-toggleable__control:checked~label.sk-toggleable__label {background-color: #d4ebff;}#sk-container-id-5 div.sk-label input.sk-toggleable__control:checked~label.sk-toggleable__label {background-color: #d4ebff;}#sk-container-id-5 input.sk-hidden--visually {border: 0;clip: rect(1px 1px 1px 1px);clip: rect(1px, 1px, 1px, 1px);height: 1px;margin: -1px;overflow: hidden;padding: 0;position: absolute;width: 1px;}#sk-container-id-5 div.sk-estimator {font-family: monospace;background-color: #f0f8ff;border: 1px dotted black;border-radius: 0.25em;box-sizing: border-box;margin-bottom: 0.5em;}#sk-container-id-5 div.sk-estimator:hover {background-color: #d4ebff;}#sk-container-id-5 div.sk-parallel-item::after {content: \"\";width: 100%;border-bottom: 1px solid gray;flex-grow: 1;}#sk-container-id-5 div.sk-label:hover label.sk-toggleable__label {background-color: #d4ebff;}#sk-container-id-5 div.sk-serial::before {content: \"\";position: absolute;border-left: 1px solid gray;box-sizing: border-box;top: 0;bottom: 0;left: 50%;z-index: 0;}#sk-container-id-5 div.sk-serial {display: flex;flex-direction: column;align-items: center;background-color: white;padding-right: 0.2em;padding-left: 0.2em;position: relative;}#sk-container-id-5 div.sk-item {position: relative;z-index: 1;}#sk-container-id-5 div.sk-parallel {display: flex;align-items: stretch;justify-content: center;background-color: white;position: relative;}#sk-container-id-5 div.sk-item::before, #sk-container-id-5 div.sk-parallel-item::before {content: \"\";position: absolute;border-left: 1px solid gray;box-sizing: border-box;top: 0;bottom: 0;left: 50%;z-index: -1;}#sk-container-id-5 div.sk-parallel-item {display: flex;flex-direction: column;z-index: 1;position: relative;background-color: white;}#sk-container-id-5 div.sk-parallel-item:first-child::after {align-self: flex-end;width: 50%;}#sk-container-id-5 div.sk-parallel-item:last-child::after {align-self: flex-start;width: 50%;}#sk-container-id-5 div.sk-parallel-item:only-child::after {width: 0;}#sk-container-id-5 div.sk-dashed-wrapped {border: 1px dashed gray;margin: 0 0.4em 0.5em 0.4em;box-sizing: border-box;padding-bottom: 0.4em;background-color: white;}#sk-container-id-5 div.sk-label label {font-family: monospace;font-weight: bold;display: inline-block;line-height: 1.2em;}#sk-container-id-5 div.sk-label-container {text-align: center;}#sk-container-id-5 div.sk-container {/* jupyter's `normalize.less` sets `[hidden] { display: none; }` but bootstrap.min.css set `[hidden] { display: none !important; }` so we also need the `!important` here to be able to override the default hidden behavior on the sphinx rendered scikit-learn.org. See: https://github.com/scikit-learn/scikit-learn/issues/21755 */display: inline-block !important;position: relative;}#sk-container-id-5 div.sk-text-repr-fallback {display: none;}</style><div id=\"sk-container-id-5\" class=\"sk-top-container\"><div class=\"sk-text-repr-fallback\"><pre>TPOTClassifier(generations=50, memory=&#x27;auto&#x27;, n_jobs=-1, scoring=&#x27;f1&#x27;,\n",
       "               verbosity=2)</pre><b>In a Jupyter environment, please rerun this cell to show the HTML representation or trust the notebook. <br />On GitHub, the HTML representation is unable to render, please try loading this page with nbviewer.org.</b></div><div class=\"sk-container\" hidden><div class=\"sk-item\"><div class=\"sk-estimator sk-toggleable\"><input class=\"sk-toggleable__control sk-hidden--visually\" id=\"sk-estimator-id-5\" type=\"checkbox\" checked><label for=\"sk-estimator-id-5\" class=\"sk-toggleable__label sk-toggleable__label-arrow\">TPOTClassifier</label><div class=\"sk-toggleable__content\"><pre>TPOTClassifier(generations=50, memory=&#x27;auto&#x27;, n_jobs=-1, scoring=&#x27;f1&#x27;,\n",
       "               verbosity=2)</pre></div></div></div></div></div>"
      ],
      "text/plain": [
       "TPOTClassifier(generations=50, memory='auto', n_jobs=-1, scoring='f1',\n",
       "               verbosity=2)"
      ]
     },
     "execution_count": 68,
     "metadata": {},
     "output_type": "execute_result"
    }
   ],
   "source": [
    "pipeline_optimizer.fit(X_train, y_train)"
   ]
  },
  {
   "cell_type": "code",
   "execution_count": 69,
   "metadata": {},
   "outputs": [
    {
     "name": "stdout",
     "output_type": "stream",
     "text": [
      "0.5222222222222221\n"
     ]
    }
   ],
   "source": [
    "print(pipeline_optimizer.score(X_test, y_test))"
   ]
  }
 ],
 "metadata": {
  "kernelspec": {
   "display_name": ".venv",
   "language": "python",
   "name": "python3"
  },
  "language_info": {
   "codemirror_mode": {
    "name": "ipython",
    "version": 3
   },
   "file_extension": ".py",
   "mimetype": "text/x-python",
   "name": "python",
   "nbconvert_exporter": "python",
   "pygments_lexer": "ipython3",
   "version": "3.10.12"
  },
  "orig_nbformat": 4
 },
 "nbformat": 4,
 "nbformat_minor": 2
}
